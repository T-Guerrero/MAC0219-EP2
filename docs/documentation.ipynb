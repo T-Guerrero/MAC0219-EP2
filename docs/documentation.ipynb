{
 "cells": [
  {
   "cell_type": "markdown",
   "id": "b9000601",
   "metadata": {},
   "source": [
    "# Relatório EP2 - Programação Concorrente e Paralela\n",
    "\n",
    "**Alunos**: \n",
    "- Erick Rodrigues de Santana, NUSP: 11222008\n",
    "- Francisco Eugênio Wernke, NUSP: 11221870\n",
    "- Thiago Guerrero Balera, NUSP: 11275297\n",
    "- Vinicius Pereira Ximenes Frota, NUSP: 11221967\n",
    "\n",
    "**Professor**: Alfredo Goldman\n",
    "\n",
    "**Monitores**: Elisa Silva e Luciana Marques\n",
    "\n",
    "O relatório a seguir foi elaborado com base nas instruções do EP2 da Matéria MAC0219 - Programação Concorrente e Paralela."
   ]
  },
  {
   "cell_type": "markdown",
   "id": "055c03f2",
   "metadata": {},
   "source": [
    "## Executando o programa\n",
    "Para executar o programa *mandelbrot* nas versões com MPI (Sequencial, OpenMP e Pthreads), adicionamos um argumento extra para definir o número de processos a serem criados (num_processes). Além disto, nas versões internamente paralelizadas, ainda existe o argumento de quantas threads serão criadas (num_threads). Antes de executar os comandos, é necessário gerar os binários desta forma:\n",
    "\n",
    "```bash\n",
    "cd src\n",
    "make\n",
    "```\n",
    "\n",
    "Agora, pode-se executar as três formas do mandelbrot com MPI da seguinte forma:\n",
    "\n",
    "```bash\n",
    "mpirun -np <num_processes> mandelbrot_mpi\n",
    "mpirun -np <num_processes> mandelbrot_mpi_omp <num_threads>\n",
    "mpirun -np <num_processes> mandelbrot_mpi_pth <num_threads>\n",
    "```"
   ]
  },
  {
   "cell_type": "markdown",
   "id": "38b7ad49",
   "metadata": {},
   "source": [
    "## Observações\n",
    "\n",
    "Todas as execuções do programa foram feitas na Rede Linux usando 20 medições para cada tipo de execução."
   ]
  },
  {
   "cell_type": "code",
   "execution_count": 5,
   "id": "0f072bd5",
   "metadata": {},
   "outputs": [
    {
     "name": "stdout",
     "output_type": "stream",
     "text": [
      "        tipo  processos  threads         tempo\n",
      "0        mpi          1        1  24237.120152\n",
      "1        mpi          1        1  24395.095348\n",
      "2        mpi          1        1  24355.067730\n",
      "3        mpi          1        1  24333.413601\n",
      "4        mpi          1        1  24350.424290\n",
      "..       ...        ...      ...           ...\n",
      "970  mpi_omp         16       32   1168.375492\n",
      "971  mpi_omp         16       32   1420.077801\n",
      "972  mpi_omp         16       32   1414.572239\n",
      "973  mpi_omp         16       32   1179.508924\n",
      "974  mpi_omp         16       32   1176.087618\n",
      "\n",
      "[975 rows x 4 columns]\n"
     ]
    }
   ],
   "source": [
    "# Bibliotecas importadas\n",
    "import pandas as pd\n",
    "import matplotlib.pyplot as plt\n",
    "from math import sqrt\n",
    "\n",
    "# Leitura de dados CSV\n",
    "csv = pd.read_csv(\"../measurements/data.csv\")\n",
    "print(csv)"
   ]
  },
  {
   "cell_type": "markdown",
   "id": "b430a156",
   "metadata": {},
   "source": [
    "## Organização dos dados\n",
    "\n",
    "Para agrupar os dados coletados usamos a estrutura de dados de dicionário. A estrutura pode ser entendida assim:\n",
    "```json\n",
    "{\n",
    "    seq: Pair<Média, Intervalo de confiança>,\n",
    "    pth: [\n",
    "        2^0 threads: Pair<Média, Intervalo de confiança>,\n",
    "        2^1 threads: Pair<Média, Intervalo de confiança>,\n",
    "        ... ,\n",
    "        2^5 threads: Pair<Média, Intervalo de confiança>\n",
    "    ],\n",
    "    omp: ...Igual a pthread,\n",
    "    mpi: [\n",
    "        1 process: Pair<Média, Intervalo de confiança>,\n",
    "        2 processes: Pair<Média, Intervalo de confiança>,\n",
    "        ...\n",
    "        16 processes: Pair<Média, Intervalo de confiança>\n",
    "    ],\n",
    "    mpi_pth: {\n",
    "        1 process: [\n",
    "            1 thread: Pair<Média, Intervalo de confiança>,\n",
    "            2 threads: Pair<Média, Intervalo de confiança>,\n",
    "            4 threads: Pair<Média, Intervalo de confiança>,\n",
    "            ...\n",
    "            32 threads: Pair<Média, Intervalo de confiança>\n",
    "        ],\n",
    "        2 processes: [\n",
    "            ...Mesmo que para 1 processo\n",
    "        ],\n",
    "        ...\n",
    "        16 processes: [\n",
    "            ...Mesmo que para 1 processo\n",
    "        ],\n",
    "    },\n",
    "    mpi_omp: { ...Mesmo que mpi_pth }\n",
    "}\n",
    "```\n",
    "Onde *seqio* representa o tempo total e *seq* representa o tempo sem as operações de I/O e gerenciamento de memória da versão sequencial.\n",
    "\n",
    "Como o intervalo de confiança é simétrico em torno da média, só armazenamos os limiares.\n",
    "<!--  apagar depois-->"
   ]
  },
  {
   "cell_type": "code",
   "execution_count": 6,
   "id": "b5a83816",
   "metadata": {},
   "outputs": [],
   "source": [
    "data = {\"seq\": (0,0), \"pth\" : [], \"omp\" : [], \"mpi\" : [], \"mpi_pth\" : dict(), \"mpi_omp\" : dict()}\n",
    "\n",
    "processos = [2**i for i in range(5)]\n",
    "tipos = [\"mpi\", \"mpi_pth\", \"mpi_omp\"]\n",
    "\n",
    "for tipo in tipos[1:]:\n",
    "    for processo in processos:\n",
    "        data[tipo][processo] = []\n",
    "\n"
   ]
  },
  {
   "cell_type": "markdown",
   "id": "9ccb9505",
   "metadata": {},
   "source": [
    "## Intervalo de confiança\n",
    "\n",
    "Para 95% de nível de confiança e n-1 (14) graus de liberdade, obtemos pela tabela da t-student o valor 2.1448 para z.\n"
   ]
  },
  {
   "cell_type": "code",
   "execution_count": 7,
   "id": "9abccf0d",
   "metadata": {},
   "outputs": [],
   "source": [
    "def confidence_interval(vector, mean):\n",
    "    z = 2.1448\n",
    "    n = len(vector)\n",
    "    sigma = 0\n",
    "    for i in vector:\n",
    "        sigma += (i - mean)**2;\n",
    "\n",
    "    sigma /= n-1;\n",
    "    sigma = sqrt(sigma);\n",
    "    return z * sigma/sqrt(n);"
   ]
  },
  {
   "cell_type": "code",
   "execution_count": 8,
   "id": "b159eead",
   "metadata": {},
   "outputs": [],
   "source": [
    "for i in range(5):\n",
    "    vector = csv[\"tempo\"][i*15:(i+1)*15]\n",
    "    mean = sum(vector)/15\n",
    "    pair = (mean, confidence_interval(vector, mean))\n",
    "    data[\"mpi\"].append(pair)\n",
    "\n",
    "for i in range(5*15, len(csv), 15):\n",
    "    tipo = csv[\"tipo\"][i]\n",
    "    processos = csv[\"processos\"][i]\n",
    "    \n",
    "    vector = csv[\"tempo\"][i:i+15]\n",
    "    mean = sum(vector)/15\n",
    "    pair = (mean, confidence_interval(vector, mean))\n",
    "    data[tipo][processos].append(pair)\n"
   ]
  },
  {
   "cell_type": "code",
   "execution_count": 9,
   "id": "567249a8",
   "metadata": {},
   "outputs": [
    {
     "data": {
      "text/plain": [
       "{'seq': (0, 0),\n",
       " 'pth': [],\n",
       " 'omp': [],\n",
       " 'mpi': [(24340.326674733333, 74.62604191774881),\n",
       "  (13094.284884066667, 70.34995500144774),\n",
       "  (6841.701110133333, 82.62360100746305),\n",
       "  (3642.6725706666666, 81.44316272438556),\n",
       "  (1995.2112674666666, 75.7045419957342)],\n",
       " 'mpi_pth': {1: [(24348.083607266668, 75.55687711742361),\n",
       "   (16151.4556568, 83.0896209821448),\n",
       "   (15695.39265626667, 105.42695854439043),\n",
       "   (15605.376656666665, 96.15638124431102),\n",
       "   (15590.817260800004, 78.71013986120725),\n",
       "   (15583.383464800001, 73.27152111698403)],\n",
       "  2: [(13026.887925466668, 82.91086932891363),\n",
       "   (8527.199252466668, 81.76203936024427),\n",
       "   (8428.322060800001, 86.65056504731804),\n",
       "   (8367.128753666668, 85.89284605066572),\n",
       "   (8429.708035866666, 85.69429238172097),\n",
       "   (8384.241580933332, 86.70570115372348)],\n",
       "  4: [(6876.0444322, 77.66861966519785),\n",
       "   (3702.7171612, 69.06500455247945),\n",
       "   (2036.5857918, 81.91292538976612),\n",
       "   (1369.5397853333336, 57.522759797702),\n",
       "   (1342.9332732666664, 62.924147627474404),\n",
       "   (1288.3229574000002, 60.53769578130375)],\n",
       "  8: [(3671.4347998666663, 82.15912998171454),\n",
       "   (2113.564459466667, 93.30767875089816),\n",
       "   (1411.9818052, 59.451005295984274),\n",
       "   (1306.0353913999998, 54.923773443100345),\n",
       "   (1297.9224205333335, 67.22984424981455),\n",
       "   (1298.7768172000003, 62.42755760748592)],\n",
       "  16: [(2089.476156333333, 75.59466282954124),\n",
       "   (1407.1128208666667, 66.9709474311023),\n",
       "   (1305.0003370000002, 54.0790383332224),\n",
       "   (1265.5215739999999, 52.0955416944683),\n",
       "   (1313.1147862, 56.31798141071138),\n",
       "   (1275.5383016, 60.393118902503666)]},\n",
       " 'mpi_omp': {1: [(24558.968242, 75.68246562109115),\n",
       "   (14383.195559266664, 85.9346591774266),\n",
       "   (14634.986988799998, 79.22411426275279),\n",
       "   (15041.237258866668, 81.98738952360316),\n",
       "   (15356.223265333334, 88.59413560239219),\n",
       "   (15518.901824800001, 98.60294762461363)],\n",
       "  2: [(13275.480381666664, 84.76994264756242),\n",
       "   (7544.725736066668, 86.41058320672417),\n",
       "   (7887.837378266667, 76.56913448096796),\n",
       "   (8100.627470133333, 88.44728505470006),\n",
       "   (8208.767922666668, 99.22970072905063),\n",
       "   (8284.359439133334, 85.89413086020737)],\n",
       "  4: [(6919.889116266668, 80.14724043611893),\n",
       "   (3689.438994733334, 81.93591883022927),\n",
       "   (2117.2830105333333, 59.236182191075955),\n",
       "   (1400.5311012666668, 49.789133090714046),\n",
       "   (1338.8412951333332, 61.68333295993986),\n",
       "   (1321.179723733333, 65.65705660909046)],\n",
       "  8: [(3700.9473324666665, 83.19943715785743),\n",
       "   (2056.680806533333, 82.6585600723781),\n",
       "   (1371.4376132, 64.26978463971028),\n",
       "   (1309.0839068, 62.32680979240754),\n",
       "   (1334.6867562, 58.48871595492889),\n",
       "   (1268.7271436666667, 62.53481346305228)],\n",
       "  16: [(2037.7666792000002, 72.25400900993242),\n",
       "   (1364.8364384666668, 81.67521495261722),\n",
       "   (1270.393069466667, 61.67477080289395),\n",
       "   (1257.3587099333336, 62.74588322499792),\n",
       "   (1328.9274058, 57.48578820472554),\n",
       "   (1282.2607040000003, 62.60432717681288)]}}"
      ]
     },
     "execution_count": 9,
     "metadata": {},
     "output_type": "execute_result"
    }
   ],
   "source": [
    "data"
   ]
  },
  {
   "cell_type": "markdown",
   "id": "398c0056",
   "metadata": {},
   "source": [
    "## Visualização dos resultados\n",
    "\n",
    "Para visualizar os resultados, plotamos um gráfico para cada tipo de programa em cada tipo de imagem e, nas versões paralelizáveis, para cada número de *threads* também.\n",
    "\n",
    "Por motivos de melhor visualização dos resultados, optamos por exibir os eixos em escala logarítimica com base 2. O eixo x representa os expoentes do tamanho de entrada e o eixo y representa o log2 da média do tempo de execução em milissegundos."
   ]
  },
  {
   "cell_type": "code",
   "execution_count": null,
   "id": "3998519b",
   "metadata": {},
   "outputs": [],
   "source": [
    "# Definição de fontes para o plot\n",
    "axis_font = Plots.font(\"Helvetica\", 7);\n",
    "text_font = Plots.font(\"Helvetica\", 10);"
   ]
  },
  {
   "cell_type": "code",
   "execution_count": null,
   "id": "1a87cbcf",
   "metadata": {},
   "outputs": [],
   "source": [
    "# Definição do eixo x\n",
    "x = [];\n",
    "for i in 4:13\n",
    "    append!(x, i);\n",
    "end"
   ]
  },
  {
   "cell_type": "code",
   "execution_count": null,
   "id": "3913d81a",
   "metadata": {},
   "outputs": [],
   "source": [
    "# Coleta dos dados necessários para cada plot\n",
    "function fetch_data(figura, id)\n",
    "    plot_seq = [];\n",
    "    ci_seq = [];\n",
    "    plot_seqio = [];\n",
    "    ci_seqio = [];\n",
    "    plot_pth = [];\n",
    "    ci_pth = [];\n",
    "    plot_omp = [];\n",
    "    ci_omp = [];\n",
    "    for i in 4:13\n",
    "        append!(plot_seq, data[\"seq\"][figura][2^i].first);\n",
    "        append!(plot_seqio, data[\"seqio\"][figura][2^i].first);\n",
    "        append!(plot_pth, data[\"pth\"][figura][2^i][id].first);\n",
    "        append!(plot_omp, data[\"omp\"][figura][2^i][id].first);\n",
    "\n",
    "        append!(ci_seq, data[\"seq\"][figura][2^i].second);\n",
    "        append!(ci_seqio, data[\"seqio\"][figura][2^i].second);\n",
    "        append!(ci_pth, data[\"pth\"][figura][2^i][id].second);\n",
    "        append!(ci_omp, data[\"omp\"][figura][2^i][id].second);\n",
    "    end\n",
    "    \n",
    "    for i in 1:length(plot_seq)\n",
    "        ci_seq[i] = log2(plot_seq[i] + ci_seq[i]) - log2(plot_seq[i]);\n",
    "        ci_seqio[i] = log2(plot_seqio[i] + ci_seqio[i]) - log2(plot_seqio[i]);\n",
    "        ci_pth[i] = log2(plot_pth[i] + ci_pth[i]) - log2(plot_pth[i]);\n",
    "        ci_omp[i] = log2(plot_omp[i] + ci_omp[i]) - log2(plot_omp[i]);\n",
    "    end\n",
    "    \n",
    "    plot_seq = broadcast(log2, plot_seq);\n",
    "    plot_seqio = broadcast(log2, plot_seqio);\n",
    "    plot_pth = broadcast(log2, plot_pth);\n",
    "    plot_omp = broadcast(log2, plot_omp);\n",
    "    \n",
    "    return plot_seq, ci_seq, plot_seqio, ci_seqio, plot_pth, ci_pth, plot_omp, ci_omp;\n",
    "end;"
   ]
  },
  {
   "cell_type": "code",
   "execution_count": null,
   "id": "3555dae7",
   "metadata": {},
   "outputs": [],
   "source": [
    "# Plota os 4 gráficos de cada tipo de programa para cada imagem usando o número de threads fornecido\n",
    "function plot_by_number_of_threads(threads)\n",
    "    id = convert(Int64, log2(threads)) + 1;\n",
    "    keys = [\"full\", \"seahorseValley\", \"elephantValley\", \"tripleSpiralValley\"];\n",
    "    for figura in keys\n",
    "        plot_seq, ci_seq, plot_seqio, ci_seqio, plot_pth, ci_pth, plot_omp, ci_omp = fetch_data(figura, id);\n",
    "        \n",
    "        title = \"\\n\" * string(threads) * \" Thread(s) - \" * figura;\n",
    "        \n",
    "        seq = plot(x, plot_seq, label= \"Seq sem I/O\", lw = 1, legend=:bottomright,\n",
    "            color=\"#7a5306\", fillcolor=\"#f4b22e\",\n",
    "            seriestype = :scatter,\n",
    "            ribbon = ci_seq)\n",
    "        \n",
    "        seqio = plot(x, plot_seqio, label= \"Seq com I/O\", lw = 1, legend=:bottomright,\n",
    "            color=\"#810ee0\", fillcolor=\"#d382ab\",\n",
    "            seriestype = :scatter,\n",
    "            ribbon = ci_seqio)\n",
    "        \n",
    "         pth = plot(x,  plot_pth, label= \"Pth\", lw = 1, legend=:bottomright,\n",
    "            color=\"#000396\", fillcolor=\"#07ffc0\",\n",
    "            seriestype = :scatter,\n",
    "            ribbon = ci_pth)\n",
    "        \n",
    "         omp = plot(x, plot_omp, label= \"OMP\", lw = 1, legend=:bottomright,\n",
    "            color=\"#f60000\", fillcolor=\"#29a7e1\",\n",
    "            seriestype = :scatter,\n",
    "            ribbon = ci_omp)\n",
    "        \n",
    "        final_plot = plot(seq, seqio, pth, omp, size=(750, 410), layout=4,\n",
    "            guidefont=axis_font, xtickfont=axis_font, ytickfont=axis_font,\n",
    "            titlefont=text_font, legendfont = axis_font,\n",
    "            bottom_margin = 7mm,\n",
    "            xticks = [minimum(x):maximum(x)+1;],\n",
    "            title=title, xlabel=\"Tamanho da entrada (log2)\", ylabel=\"Tempo (log2(ms))\")\n",
    "        \n",
    "        display(final_plot)\n",
    "    end\n",
    "end;\n"
   ]
  },
  {
   "cell_type": "code",
   "execution_count": null,
   "id": "9b9c9f3a",
   "metadata": {},
   "outputs": [],
   "source": [
    "plot_by_number_of_threads(2^0)"
   ]
  },
  {
   "cell_type": "code",
   "execution_count": null,
   "id": "b0592c32",
   "metadata": {},
   "outputs": [],
   "source": [
    "plot_by_number_of_threads(2^1)"
   ]
  },
  {
   "cell_type": "code",
   "execution_count": null,
   "id": "6bf6d78b",
   "metadata": {},
   "outputs": [],
   "source": [
    "plot_by_number_of_threads(2^2)"
   ]
  },
  {
   "cell_type": "code",
   "execution_count": null,
   "id": "58778d29",
   "metadata": {},
   "outputs": [],
   "source": [
    "plot_by_number_of_threads(2^3)"
   ]
  },
  {
   "cell_type": "code",
   "execution_count": null,
   "id": "3764ffae",
   "metadata": {},
   "outputs": [],
   "source": [
    "plot_by_number_of_threads(2^4)"
   ]
  },
  {
   "cell_type": "code",
   "execution_count": null,
   "id": "551b367c",
   "metadata": {},
   "outputs": [],
   "source": [
    "plot_by_number_of_threads(2^5)"
   ]
  },
  {
   "cell_type": "markdown",
   "id": "8f99c2ab",
   "metadata": {},
   "source": [
    "## Resultados\n",
    "\n",
    "### Como e por que as três versões do programa se comportam com a variação:\n",
    "\n",
    "\n",
    "* **Do tamanho da entrada?**\n",
    "    \n",
    "    O tempo gasto é proporcional ao tamanho da entrada independentemente da versão. Além disto, podemos ver que todos os gráficos possuem o mesmo formato mas com valores diferentes. Isto ocorre pois, em qualquer método escolhido para fazer a computação, um aumento no tamanho da entrada implica em mais trabalho a ser realizado e todos os métodos reagem de forma similar à este aumento. \n",
    "        \n",
    "        \n",
    "* **Das regiões do Conjunto de Mandelbrot?**\n",
    "    \n",
    "     O tempo gasto na figura *full* é relativamente menor do que o tempo gasto nas outras figuras na versão sequencial. Isto ocorre pois, em relação ao limitante *escape_radius_squared* definido, os pixels da figura *full* divergem em menos iterações do que os pixels das outras figuras, fazendo com que o programa execute mais rapidamente. Nas versões paralelizadas, a diferença de tempo gasto entre as figuras é relativa à quantidade de threads.\n",
    "        \n",
    "        \n",
    "* **Do número de threads?**\n",
    "    \n",
    "    Conforme o número de threads aumenta, conseguimos observar, para tamanhos cada vez maiores de entrada, uma redução do tempo cada vez mais proporcional ao número de threads. Isto ocorre pois, quando começamos a ter tamanhos de entrada cada vez maiores, o benefício do uso das threads e da divisão do trabalho acabam superando o seu custo de criação.\n",
    "    \n",
    "    Além disso, observamos que, nas versões paralelizadas, quanto maior o número de threads, menor é a diferença de tempo gasto entre as imagens. Isto ocorre pois quanto mais dividimos a imagem em diferentes seções, mais homogênea fica a distribuição dos pixels que demoram muitas iterações para divergir e, portanto, as seções demoram relativamente o mesmo tempo. Assim o programa executa em menos tempo, pois mais threads executarão e terminarão juntas.\n",
    " \n",
    "### Qual o impacto das operações de I/O e alocação de memória no tempo de execução?\n",
    "\n",
    "Analisando o código, podemos perceber que as operações de I/O e alocação de memória gastam tempo proporcional a t^2 (O(t^2)), onde t é o tamanho da entrada. Podemos notar, então, que a influência dessas operações no tempo é relativa entre os pontos e, para valores de entrada pequenos, o tempo de processamento é ínfimo enquanto a maior parte do tempo gasto pela execução do programa é realizando essas operações."
   ]
  }
 ],
 "metadata": {
  "kernelspec": {
   "display_name": "Python 3",
   "language": "python",
   "name": "python3"
  },
  "language_info": {
   "codemirror_mode": {
    "name": "ipython",
    "version": 3
   },
   "file_extension": ".py",
   "mimetype": "text/x-python",
   "name": "python",
   "nbconvert_exporter": "python",
   "pygments_lexer": "ipython3",
   "version": "3.8.10"
  }
 },
 "nbformat": 4,
 "nbformat_minor": 5
}
