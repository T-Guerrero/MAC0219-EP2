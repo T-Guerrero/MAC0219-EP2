{
 "cells": [
  {
   "cell_type": "markdown",
   "id": "b9000601",
   "metadata": {},
   "source": [
    "# Relatório EP1 - Programação Concorrente e Paralela\n",
    "\n",
    "**Alunos**: \n",
    "- Erick Rodrigues de Santana, NUSP: 11222008\n",
    "- Francisco Eugênio Wernke, NUSP: 11221870\n",
    "- Thiago Guerrero Balera, NUSP: 11275297\n",
    "- Vinicius Pereira Ximenes Frota, NUSP: 11221967\n",
    "\n",
    "**Professor**: Alfredo Goldman\n",
    "\n",
    "**Monitores**: Elisa Silva e Luciana Marques\n",
    "\n",
    "O relatório a seguir foi elaborado com base nas instruções do EP2 da Matéria MAC0219 - Programação Concorrente e Paralela."
   ]
  },
  {
   "cell_type": "markdown",
   "id": "055c03f2",
   "metadata": {},
   "source": [
    "## Executando o programa\n",
    "Para executar o programa *mandelbrot* nas versões com MPI (Sequencial, OpenMP e Pthreads), adicionamos um argumento extra para definir o número de processos a serem criados (num_processes). Além disto, nas versões internamente paralelizadas, ainda existe o argumento de quantas threads serão criadas (num_threads). Antes de executar os comandos, é necessário gerar os binários desta forma:\n",
    "\n",
    "```bash\n",
    "cd src\n",
    "make\n",
    "```\n",
    "\n",
    "Agora, pode-se executar as três formas do mandelbrot com MPI da seguinte forma:\n",
    "\n",
    "```bash\n",
    "mpirun -np <num_processes> mandelbrot_mpi\n",
    "mpirun -np <num_processes> mandelbrot_mpi_omp <num_threads>\n",
    "mpirun -np <num_processes> mandelbrot_mpi_pth <num_threads>\n",
    "```"
   ]
  },
  {
   "cell_type": "markdown",
   "id": "38b7ad49",
   "metadata": {},
   "source": [
    "## Observações\n",
    "\n",
    "Todas as execuções do programa foram feitas na Rede Linux usando 20 medições para cada tipo de execução."
   ]
  },
  {
   "cell_type": "code",
   "execution_count": 4,
   "id": "0f072bd5",
   "metadata": {},
   "outputs": [
    {
     "name": "stdout",
     "output_type": "stream",
     "text": [
      "      tipo  tamanho  threads        tempo         io              figura\n",
      "0      seq       16        1     0.153780  50.254822                full\n",
      "1      seq       16        1     0.153542  53.570986                full\n",
      "2      seq       16        1     0.152588  53.609371                full\n",
      "3      seq       16        1     0.152826  53.503752                full\n",
      "4      seq       16        1     0.153780  53.590536                full\n",
      "...    ...      ...      ...          ...        ...                 ...\n",
      "10395  omp     8192       32  4790.982723   0.000000  tripleSpiralValley\n",
      "10396  omp     8192       32  4792.347670   0.000000  tripleSpiralValley\n",
      "10397  omp     8192       32  4935.701370   0.000000  tripleSpiralValley\n",
      "10398  omp     8192       32  5377.342939   0.000000  tripleSpiralValley\n",
      "10399  omp     8192       32  4771.972418   0.000000  tripleSpiralValley\n",
      "\n",
      "[10400 rows x 6 columns]\n"
     ]
    }
   ],
   "source": [
    "# Bibliotecas importadas\n",
    "import pandas as pd\n",
    "import matplotlib.pyplot as plt\n",
    "\n",
    "# Leitura de dados CSV\n",
    "csv = pd.read_csv(\"../data_sample.csv\")\n",
    "print(csv)"
   ]
  },
  {
   "cell_type": "markdown",
   "id": "b430a156",
   "metadata": {},
   "source": [
    "## Organização dos dados\n",
    "\n",
    "Para agrupar os dados coletados usamos a estrutura de dados de dicionário. A estrutura pode ser entendida assim:\n",
    "```json\n",
    "{\n",
    "    seq: {\n",
    "        Pair<Média, Intervalo de confiança>\n",
    "    },\n",
    "    seqio: ...Igual a seq,\n",
    "    pth: {\n",
    "        2^0 threads: Pair<Média, Intervalo de confiança>,\n",
    "        2^1 threads: Pair<Média, Intervalo de confiança>,\n",
    "        ... ,\n",
    "        2^5 threads: Pair<Média, Intervalo de confiança>\n",
    "    },\n",
    "    omp: ...Igual a pthread,\n",
    "    mpi: {\n",
    "        1 process: Pair<Média, Intervalo de confiança>,\n",
    "        2 processes: Pair<Média, Intervalo de confiança>,\n",
    "        ...\n",
    "        16 processes: Pair<Média, Intervalo de confiança>\n",
    "    },\n",
    "    mpi_pth: {\n",
    "        1 process: {\n",
    "            1 thread: Pair<Média, Intervalo de confiança>,\n",
    "            2 threads: Pair<Média, Intervalo de confiança>,\n",
    "            4 threads: Pair<Média, Intervalo de confiança>,\n",
    "            ...\n",
    "            32 threads: Pair<Média, Intervalo de confiança>\n",
    "        },\n",
    "        2 processes: {\n",
    "            ...Mesmo que para 1 processo\n",
    "        },\n",
    "        ...\n",
    "        16 processes: {\n",
    "            ...Mesmo que para 1 processo\n",
    "        },\n",
    "    },\n",
    "    mpi_omp: { ...Mesmo que mpi_pth }\n",
    "}\n",
    "```\n",
    "Onde *seqio* representa o tempo total e *seq* representa o tempo sem as operações de I/O e gerenciamento de memória da versão sequencial.\n",
    "\n",
    "Como o intervalo de confiança é simétrico em torno da média, só armazenamos os limiares."
   ]
  },
  {
   "cell_type": "code",
   "execution_count": null,
   "id": "7ae33622",
   "metadata": {},
   "outputs": [],
   "source": [
    "data = Dict();\n",
    "data[\"seq\"] = Dict(\"full\"=>Dict(), \"seahorseValley\"=>Dict(), \"elephantValley\"=>Dict(), \"tripleSpiralValley\"=>Dict());\n",
    "data[\"seqio\"] = Dict(\"full\"=>Dict(), \"seahorseValley\"=>Dict(), \"elephantValley\"=>Dict(), \"tripleSpiralValley\"=>Dict());\n",
    "data[\"pth\"] = Dict(\"full\"=>Dict(), \"seahorseValley\"=>Dict(), \"elephantValley\"=>Dict(), \"tripleSpiralValley\"=>Dict());\n",
    "data[\"omp\"] = Dict(\"full\"=>Dict(), \"seahorseValley\"=>Dict(), \"elephantValley\"=>Dict(), \"tripleSpiralValley\"=>Dict());\n",
    "\n",
    "keys = [\"full\", \"seahorseValley\", \"elephantValley\", \"tripleSpiralValley\"];\n",
    "for i in 4:13\n",
    "     for t in keys\n",
    "         pair = 1 => 0;\n",
    "         data[\"seq\"][t][2^i] = pair;\n",
    "         data[\"seqio\"][t][2^i] = pair;\n",
    "         data[\"pth\"][t][2^i] = Pair{Float64, Float64}[];\n",
    "         data[\"omp\"][t][2^i] = Pair{Float64, Float64}[];\n",
    "     end\n",
    "end"
   ]
  },
  {
   "cell_type": "markdown",
   "id": "9ccb9505",
   "metadata": {},
   "source": [
    "## Intervalo de confiança\n",
    "\n",
    "Para 95% de nível de confiança e n-1 (19) graus de liberdade, obtemos pela tabela da t-student o valor 2.0930 para z.\n"
   ]
  },
  {
   "cell_type": "code",
   "execution_count": 2,
   "id": "88176f9c",
   "metadata": {},
   "outputs": [
    {
     "ename": "SyntaxError",
     "evalue": "invalid syntax (<ipython-input-2-7325343aee2d>, line 1)",
     "output_type": "error",
     "traceback": [
      "\u001b[0;36m  File \u001b[0;32m\"<ipython-input-2-7325343aee2d>\"\u001b[0;36m, line \u001b[0;32m1\u001b[0m\n\u001b[0;31m    function confidence_interval(vector, mean)\u001b[0m\n\u001b[0m             ^\u001b[0m\n\u001b[0;31mSyntaxError\u001b[0m\u001b[0;31m:\u001b[0m invalid syntax\n"
     ]
    }
   ],
   "source": [
    "function confidence_interval(vector, mean)\n",
    "    z = 2.0930;\n",
    "    n = length(vector);\n",
    "    sigma = 0;\n",
    "    for i in 1:n\n",
    "        sigma += (vector[i] - mean)^2;\n",
    "    end\n",
    "    sigma /= n-1;\n",
    "    sigma = sqrt(sigma);\n",
    "    return z * sigma/sqrt(n);\n",
    "end;"
   ]
  },
  {
   "cell_type": "code",
   "execution_count": null,
   "id": "e3de7a19",
   "metadata": {},
   "outputs": [],
   "source": [
    "# Processamento dos dados\n",
    "size = nrow(csv)\n",
    "\n",
    "for i in 21:20:size+1\n",
    "    tipo = csv.tipo[i-1];\n",
    "    figura = csv.figura[i-1];\n",
    "    tamanho = csv.tamanho[i-1];\n",
    "    threads = csv.threads[i-1];\n",
    "    if (tipo == \"seq\")\n",
    "        vector = vcat(csv.tempo[i-20:i-1], csv.io[i-20:i-1]);\n",
    "        sum = reduce(+, vector);\n",
    "        pair = sum/20 => confidence_interval(vector, sum/20);\n",
    "        data[\"seqio\"][figura][tamanho] = pair;\n",
    "\n",
    "        sum  = reduce(+, csv.tempo[i-20:i-1]);\n",
    "        pair = sum/20 => confidence_interval(csv.tempo[i-20:i-1], sum/20);\n",
    "        data[tipo][figura][tamanho] = pair;\n",
    "    else\n",
    "        sum  = reduce(+, csv.tempo[i-20:i-1]);\n",
    "        pair = sum/20 => confidence_interval(csv.tempo[i-20:i-1], sum/20);\n",
    "        push!(data[tipo][figura][tamanho], pair);\n",
    "    end\n",
    "end"
   ]
  },
  {
   "cell_type": "markdown",
   "id": "398c0056",
   "metadata": {},
   "source": [
    "## Visualização dos resultados\n",
    "\n",
    "Para visualizar os resultados, plotamos um gráfico para cada tipo de programa em cada tipo de imagem e, nas versões paralelizáveis, para cada número de *threads* também.\n",
    "\n",
    "Por motivos de melhor visualização dos resultados, optamos por exibir os eixos em escala logarítimica com base 2. O eixo x representa os expoentes do tamanho de entrada e o eixo y representa o log2 da média do tempo de execução em milissegundos."
   ]
  },
  {
   "cell_type": "code",
   "execution_count": null,
   "id": "3998519b",
   "metadata": {},
   "outputs": [],
   "source": [
    "# Definição de fontes para o plot\n",
    "axis_font = Plots.font(\"Helvetica\", 7);\n",
    "text_font = Plots.font(\"Helvetica\", 10);"
   ]
  },
  {
   "cell_type": "code",
   "execution_count": null,
   "id": "1a87cbcf",
   "metadata": {},
   "outputs": [],
   "source": [
    "# Definição do eixo x\n",
    "x = [];\n",
    "for i in 4:13\n",
    "    append!(x, i);\n",
    "end"
   ]
  },
  {
   "cell_type": "code",
   "execution_count": null,
   "id": "3913d81a",
   "metadata": {},
   "outputs": [],
   "source": [
    "# Coleta dos dados necessários para cada plot\n",
    "function fetch_data(figura, id)\n",
    "    plot_seq = [];\n",
    "    ci_seq = [];\n",
    "    plot_seqio = [];\n",
    "    ci_seqio = [];\n",
    "    plot_pth = [];\n",
    "    ci_pth = [];\n",
    "    plot_omp = [];\n",
    "    ci_omp = [];\n",
    "    for i in 4:13\n",
    "        append!(plot_seq, data[\"seq\"][figura][2^i].first);\n",
    "        append!(plot_seqio, data[\"seqio\"][figura][2^i].first);\n",
    "        append!(plot_pth, data[\"pth\"][figura][2^i][id].first);\n",
    "        append!(plot_omp, data[\"omp\"][figura][2^i][id].first);\n",
    "\n",
    "        append!(ci_seq, data[\"seq\"][figura][2^i].second);\n",
    "        append!(ci_seqio, data[\"seqio\"][figura][2^i].second);\n",
    "        append!(ci_pth, data[\"pth\"][figura][2^i][id].second);\n",
    "        append!(ci_omp, data[\"omp\"][figura][2^i][id].second);\n",
    "    end\n",
    "    \n",
    "    for i in 1:length(plot_seq)\n",
    "        ci_seq[i] = log2(plot_seq[i] + ci_seq[i]) - log2(plot_seq[i]);\n",
    "        ci_seqio[i] = log2(plot_seqio[i] + ci_seqio[i]) - log2(plot_seqio[i]);\n",
    "        ci_pth[i] = log2(plot_pth[i] + ci_pth[i]) - log2(plot_pth[i]);\n",
    "        ci_omp[i] = log2(plot_omp[i] + ci_omp[i]) - log2(plot_omp[i]);\n",
    "    end\n",
    "    \n",
    "    plot_seq = broadcast(log2, plot_seq);\n",
    "    plot_seqio = broadcast(log2, plot_seqio);\n",
    "    plot_pth = broadcast(log2, plot_pth);\n",
    "    plot_omp = broadcast(log2, plot_omp);\n",
    "    \n",
    "    return plot_seq, ci_seq, plot_seqio, ci_seqio, plot_pth, ci_pth, plot_omp, ci_omp;\n",
    "end;"
   ]
  },
  {
   "cell_type": "code",
   "execution_count": null,
   "id": "3555dae7",
   "metadata": {},
   "outputs": [],
   "source": [
    "# Plota os 4 gráficos de cada tipo de programa para cada imagem usando o número de threads fornecido\n",
    "function plot_by_number_of_threads(threads)\n",
    "    id = convert(Int64, log2(threads)) + 1;\n",
    "    keys = [\"full\", \"seahorseValley\", \"elephantValley\", \"tripleSpiralValley\"];\n",
    "    for figura in keys\n",
    "        plot_seq, ci_seq, plot_seqio, ci_seqio, plot_pth, ci_pth, plot_omp, ci_omp = fetch_data(figura, id);\n",
    "        \n",
    "        title = \"\\n\" * string(threads) * \" Thread(s) - \" * figura;\n",
    "        \n",
    "        seq = plot(x, plot_seq, label= \"Seq sem I/O\", lw = 1, legend=:bottomright,\n",
    "            color=\"#7a5306\", fillcolor=\"#f4b22e\",\n",
    "            seriestype = :scatter,\n",
    "            ribbon = ci_seq)\n",
    "        \n",
    "        seqio = plot(x, plot_seqio, label= \"Seq com I/O\", lw = 1, legend=:bottomright,\n",
    "            color=\"#810ee0\", fillcolor=\"#d382ab\",\n",
    "            seriestype = :scatter,\n",
    "            ribbon = ci_seqio)\n",
    "        \n",
    "         pth = plot(x,  plot_pth, label= \"Pth\", lw = 1, legend=:bottomright,\n",
    "            color=\"#000396\", fillcolor=\"#07ffc0\",\n",
    "            seriestype = :scatter,\n",
    "            ribbon = ci_pth)\n",
    "        \n",
    "         omp = plot(x, plot_omp, label= \"OMP\", lw = 1, legend=:bottomright,\n",
    "            color=\"#f60000\", fillcolor=\"#29a7e1\",\n",
    "            seriestype = :scatter,\n",
    "            ribbon = ci_omp)\n",
    "        \n",
    "        final_plot = plot(seq, seqio, pth, omp, size=(750, 410), layout=4,\n",
    "            guidefont=axis_font, xtickfont=axis_font, ytickfont=axis_font,\n",
    "            titlefont=text_font, legendfont = axis_font,\n",
    "            bottom_margin = 7mm,\n",
    "            xticks = [minimum(x):maximum(x)+1;],\n",
    "            title=title, xlabel=\"Tamanho da entrada (log2)\", ylabel=\"Tempo (log2(ms))\")\n",
    "        \n",
    "        display(final_plot)\n",
    "    end\n",
    "end;\n"
   ]
  },
  {
   "cell_type": "code",
   "execution_count": null,
   "id": "9b9c9f3a",
   "metadata": {},
   "outputs": [],
   "source": [
    "plot_by_number_of_threads(2^0)"
   ]
  },
  {
   "cell_type": "code",
   "execution_count": null,
   "id": "b0592c32",
   "metadata": {},
   "outputs": [],
   "source": [
    "plot_by_number_of_threads(2^1)"
   ]
  },
  {
   "cell_type": "code",
   "execution_count": null,
   "id": "6bf6d78b",
   "metadata": {},
   "outputs": [],
   "source": [
    "plot_by_number_of_threads(2^2)"
   ]
  },
  {
   "cell_type": "code",
   "execution_count": null,
   "id": "58778d29",
   "metadata": {},
   "outputs": [],
   "source": [
    "plot_by_number_of_threads(2^3)"
   ]
  },
  {
   "cell_type": "code",
   "execution_count": null,
   "id": "3764ffae",
   "metadata": {},
   "outputs": [],
   "source": [
    "plot_by_number_of_threads(2^4)"
   ]
  },
  {
   "cell_type": "code",
   "execution_count": null,
   "id": "551b367c",
   "metadata": {},
   "outputs": [],
   "source": [
    "plot_by_number_of_threads(2^5)"
   ]
  },
  {
   "cell_type": "markdown",
   "id": "8f99c2ab",
   "metadata": {},
   "source": [
    "## Resultados\n",
    "\n",
    "### Como e por que as três versões do programa se comportam com a variação:\n",
    "\n",
    "\n",
    "* **Do tamanho da entrada?**\n",
    "    \n",
    "    O tempo gasto é proporcional ao tamanho da entrada independentemente da versão. Além disto, podemos ver que todos os gráficos possuem o mesmo formato mas com valores diferentes. Isto ocorre pois, em qualquer método escolhido para fazer a computação, um aumento no tamanho da entrada implica em mais trabalho a ser realizado e todos os métodos reagem de forma similar à este aumento. \n",
    "        \n",
    "        \n",
    "* **Das regiões do Conjunto de Mandelbrot?**\n",
    "    \n",
    "     O tempo gasto na figura *full* é relativamente menor do que o tempo gasto nas outras figuras na versão sequencial. Isto ocorre pois, em relação ao limitante *escape_radius_squared* definido, os pixels da figura *full* divergem em menos iterações do que os pixels das outras figuras, fazendo com que o programa execute mais rapidamente. Nas versões paralelizadas, a diferença de tempo gasto entre as figuras é relativa à quantidade de threads.\n",
    "        \n",
    "        \n",
    "* **Do número de threads?**\n",
    "    \n",
    "    Conforme o número de threads aumenta, conseguimos observar, para tamanhos cada vez maiores de entrada, uma redução do tempo cada vez mais proporcional ao número de threads. Isto ocorre pois, quando começamos a ter tamanhos de entrada cada vez maiores, o benefício do uso das threads e da divisão do trabalho acabam superando o seu custo de criação.\n",
    "    \n",
    "    Além disso, observamos que, nas versões paralelizadas, quanto maior o número de threads, menor é a diferença de tempo gasto entre as imagens. Isto ocorre pois quanto mais dividimos a imagem em diferentes seções, mais homogênea fica a distribuição dos pixels que demoram muitas iterações para divergir e, portanto, as seções demoram relativamente o mesmo tempo. Assim o programa executa em menos tempo, pois mais threads executarão e terminarão juntas.\n",
    " \n",
    "### Qual o impacto das operações de I/O e alocação de memória no tempo de execução?\n",
    "\n",
    "Analisando o código, podemos perceber que as operações de I/O e alocação de memória gastam tempo proporcional a t^2 (O(t^2)), onde t é o tamanho da entrada. Podemos notar, então, que a influência dessas operações no tempo é relativa entre os pontos e, para valores de entrada pequenos, o tempo de processamento é ínfimo enquanto a maior parte do tempo gasto pela execução do programa é realizando essas operações."
   ]
  }
 ],
 "metadata": {
  "kernelspec": {
   "display_name": "Python 3",
   "language": "python",
   "name": "python3"
  },
  "language_info": {
   "codemirror_mode": {
    "name": "ipython",
    "version": 3
   },
   "file_extension": ".py",
   "mimetype": "text/x-python",
   "name": "python",
   "nbconvert_exporter": "python",
   "pygments_lexer": "ipython3",
   "version": "3.8.8"
  }
 },
 "nbformat": 4,
 "nbformat_minor": 5
}
